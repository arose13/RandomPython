{
 "cells": [
  {
   "cell_type": "markdown",
   "metadata": {},
   "source": [
    "# Law and Order SVU\n",
    "Victims, perps and suspects."
   ]
  },
  {
   "cell_type": "code",
   "execution_count": 4,
   "metadata": {
    "collapsed": true
   },
   "outputs": [],
   "source": [
    "%matplotlib inline\n",
    "\n",
    "import numpy as np\n",
    "import pandas as pd\n",
    "import seaborn as sns\n",
    "import matplotlib.pyplot as graph\n",
    "from IPython.display import display, Markdown\n",
    "\n",
    "sns.set(font_scale=1.5, rc={'figure.figsize': (5, 3)})\n",
    "sns.set_style('ticks')"
   ]
  },
  {
   "cell_type": "code",
   "execution_count": 5,
   "metadata": {
    "collapsed": false,
    "scrolled": false
   },
   "outputs": [
    {
     "data": {
      "text/markdown": [
       "Victim Data, **N=67**"
      ],
      "text/plain": [
       "<IPython.core.display.Markdown object>"
      ]
     },
     "metadata": {},
     "output_type": "display_data"
    },
    {
     "data": {
      "text/markdown": [
       "Perp Data, **N=32**"
      ],
      "text/plain": [
       "<IPython.core.display.Markdown object>"
      ]
     },
     "metadata": {},
     "output_type": "display_data"
    }
   ],
   "source": [
    "# Get Data\n",
    "victims_data = pd.read_csv('data/svu/victims.csv')\n",
    "perp_data = pd.read_csv('data/svu/perps.csv')\n",
    "\n",
    "# Clean Data\n",
    "victims_data = victims_data[['Episode', 'Sex', 'Age', 'Race', 'Class']]\n",
    "victims_data = victims_data.dropna(axis=0)\n",
    "display(Markdown('Victim Data, **N={}**'.format(len(victims_data))))\n",
    "\n",
    "perp_data = perp_data[['Episode', 'Sex', 'Age', 'Race']]\n",
    "perp_data = perp_data.dropna(axis=0)\n",
    "display(Markdown('Perp Data, **N={}**'.format(len(perp_data))))"
   ]
  },
  {
   "cell_type": "markdown",
   "metadata": {},
   "source": [
    "# Simple Descriptive Statistics"
   ]
  },
  {
   "cell_type": "code",
   "execution_count": 9,
   "metadata": {
    "collapsed": false,
    "scrolled": false
   },
   "outputs": [
    {
     "data": {
      "text/markdown": [
       "---"
      ],
      "text/plain": [
       "<IPython.core.display.Markdown object>"
      ]
     },
     "metadata": {},
     "output_type": "display_data"
    },
    {
     "name": "stdout",
     "output_type": "stream",
     "text": [
      "M = 0.358\n",
      "F = 0.627\n",
      "O = 0.015\n"
     ]
    },
    {
     "data": {
      "image/png": "[encoded data removed]",
      "text/plain": [
       "<matplotlib.figure.Figure at 0xce55c90>"
      ]
     },
     "metadata": {},
     "output_type": "display_data"
    },
    {
     "data": {
      "text/markdown": [
       "**Figure 1.1.** Victims gender."
      ],
      "text/plain": [
       "<IPython.core.display.Markdown object>"
      ]
     },
     "metadata": {},
     "output_type": "display_data"
    },
    {
     "data": {
      "text/markdown": [
       "---"
      ],
      "text/plain": [
       "<IPython.core.display.Markdown object>"
      ]
     },
     "metadata": {},
     "output_type": "display_data"
    },
    {
     "name": "stdout",
     "output_type": "stream",
     "text": [
      "W = 0.776\n",
      "B = 0.104\n",
      "H = 0.09\n",
      "U = 0.03\n"
     ]
    },
    {
     "data": {
      "image/png": "[encoded data removed]",
      "text/plain": [
       "<matplotlib.figure.Figure at 0xcca14b0>"
      ]
     },
     "metadata": {},
     "output_type": "display_data"
    },
    {
     "data": {
      "text/markdown": [
       "**Figure 1.2.** Victim race."
      ],
      "text/plain": [
       "<IPython.core.display.Markdown object>"
      ]
     },
     "metadata": {},
     "output_type": "display_data"
    },
    {
     "data": {
      "text/markdown": [
       "---"
      ],
      "text/plain": [
       "<IPython.core.display.Markdown object>"
      ]
     },
     "metadata": {},
     "output_type": "display_data"
    },
    {
     "name": "stdout",
     "output_type": "stream",
     "text": [
      "K = 0.194\n",
      "Y = 0.313\n",
      "A = 0.284\n",
      "S = 0.209\n"
     ]
    },
    {
     "data": {
      "image/png": "[encoded data removed]",
      "text/plain": [
       "<matplotlib.figure.Figure at 0xcda8670>"
      ]
     },
     "metadata": {},
     "output_type": "display_data"
    },
    {
     "data": {
      "text/markdown": [
       "**Figure 1.3.** Victim age range."
      ],
      "text/plain": [
       "<IPython.core.display.Markdown object>"
      ]
     },
     "metadata": {},
     "output_type": "display_data"
    },
    {
     "data": {
      "text/markdown": [
       "---"
      ],
      "text/plain": [
       "<IPython.core.display.Markdown object>"
      ]
     },
     "metadata": {},
     "output_type": "display_data"
    },
    {
     "name": "stdout",
     "output_type": "stream",
     "text": [
      "M = 0.75\n",
      "F = 0.156\n",
      "O = 0.062\n"
     ]
    },
    {
     "data": {
      "image/png": "[encoded data removed]",
      "text/plain": [
       "<matplotlib.figure.Figure at 0xcda6df0>"
      ]
     },
     "metadata": {},
     "output_type": "display_data"
    },
    {
     "data": {
      "text/markdown": [
       "**Figure 2.1.** Perps gender."
      ],
      "text/plain": [
       "<IPython.core.display.Markdown object>"
      ]
     },
     "metadata": {},
     "output_type": "display_data"
    },
    {
     "data": {
      "text/markdown": [
       "---"
      ],
      "text/plain": [
       "<IPython.core.display.Markdown object>"
      ]
     },
     "metadata": {},
     "output_type": "display_data"
    },
    {
     "name": "stdout",
     "output_type": "stream",
     "text": [
      "W = 0.844\n",
      "B = 0.094\n",
      "H = 0.062\n",
      "U = 0.0\n"
     ]
    },
    {
     "data": {
      "image/png": "[encoded data removed]",
      "text/plain": [
       "<matplotlib.figure.Figure at 0xce01db0>"
      ]
     },
     "metadata": {},
     "output_type": "display_data"
    },
    {
     "data": {
      "text/markdown": [
       "**Figure 2.2.** Perps race."
      ],
      "text/plain": [
       "<IPython.core.display.Markdown object>"
      ]
     },
     "metadata": {},
     "output_type": "display_data"
    },
    {
     "data": {
      "text/markdown": [
       "---"
      ],
      "text/plain": [
       "<IPython.core.display.Markdown object>"
      ]
     },
     "metadata": {},
     "output_type": "display_data"
    },
    {
     "name": "stdout",
     "output_type": "stream",
     "text": [
      "K = 0.125\n",
      "Y = 0.156\n",
      "A = 0.625\n",
      "S = 0.094\n"
     ]
    },
    {
     "data": {
      "image/png": "[encoded data removed]",
      "text/plain": [
       "<matplotlib.figure.Figure at 0xce44850>"
      ]
     },
     "metadata": {},
     "output_type": "display_data"
    },
    {
     "data": {
      "text/markdown": [
       "**Figure 2.3.** Perps age."
      ],
      "text/plain": [
       "<IPython.core.display.Markdown object>"
      ]
     },
     "metadata": {},
     "output_type": "display_data"
    }
   ],
   "source": [
    "gender_labels = ['Males', 'Females', 'Other']\n",
    "gender_query = ['M', 'F', 'O']\n",
    "race_labels = ['White', 'Black', 'Hispanic', 'Unknown']\n",
    "race_query = ['W', 'B', 'H', 'U']\n",
    "age_labels = ['0-18', '18-30', '30-50', '50+']\n",
    "age_query = ['K', 'Y', 'A', 'S']\n",
    "\n",
    "def get_numbers(column, query, data):\n",
    "    numbers = []\n",
    "    n = len(data)\n",
    "    display(Markdown('---'))\n",
    "    for q in query:\n",
    "        number = len(data.where(data[column] == q).dropna()) / n\n",
    "        numbers.append(number)\n",
    "        print(q, '=', round(number, 3))\n",
    "    return numbers\n",
    "\n",
    "# Victims\n",
    "sns.barplot(\n",
    "    x=gender_labels, \n",
    "    y=get_numbers('Sex', gender_query, victims_data)\n",
    ")\n",
    "graph.show()\n",
    "display(Markdown('**Figure 1.1.** Victims gender.'))\n",
    "\n",
    "sns.barplot(\n",
    "    x=race_labels,\n",
    "    y=get_numbers('Race', race_query, victims_data)\n",
    ")\n",
    "graph.show()\n",
    "display(Markdown('**Figure 1.2.** Victim race.'))\n",
    "\n",
    "sns.barplot(\n",
    "    x=age_labels,\n",
    "    y=get_numbers('Age', age_query, victims_data)\n",
    ")\n",
    "graph.show()\n",
    "display(Markdown('**Figure 1.3.** Victim age range.'))\n",
    "\n",
    "# Perps\n",
    "sns.barplot(x=gender_labels, y=get_numbers('Sex', gender_query, perp_data))\n",
    "graph.show()\n",
    "display(Markdown('**Figure 2.1.** Perps gender.'))\n",
    "\n",
    "sns.barplot(x=race_labels, y=get_numbers('Race', race_query, perp_data))\n",
    "graph.show()\n",
    "display(Markdown('**Figure 2.2.** Perps race.'))\n",
    "\n",
    "sns.barplot(x=age_labels, y=get_numbers('Age', age_query, perp_data))\n",
    "graph.show()\n",
    "display(Markdown('**Figure 2.3.** Perps age.'))"
   ]
  }
 ],
 "metadata": {
  "kernelspec": {
   "display_name": "Python 3",
   "language": "python",
   "name": "python3"
  },
  "language_info": {
   "codemirror_mode": {
    "name": "ipython",
    "version": 3
   },
   "file_extension": ".py",
   "mimetype": "text/x-python",
   "name": "python",
   "nbconvert_exporter": "python",
   "pygments_lexer": "ipython3",
   "version": "3.5.1"
  }
 },
 "nbformat": 4,
 "nbformat_minor": 0
}
